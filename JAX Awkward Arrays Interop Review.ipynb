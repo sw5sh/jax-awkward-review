{
 "cells": [
  {
   "cell_type": "code",
   "execution_count": 1,
   "id": "3c826260",
   "metadata": {},
   "outputs": [],
   "source": [
    "import awkward as ak\n",
    "import uproot\n",
    "import hist\n",
    "import jax\n",
    "import numpy as np"
   ]
  },
  {
   "cell_type": "code",
   "execution_count": 2,
   "id": "06dad163",
   "metadata": {},
   "outputs": [],
   "source": [
    "jax.config.update(\"jax_platform_name\", \"cpu\")\n",
    "jax.config.update(\"jax_enable_x64\", True)"
   ]
  },
  {
   "cell_type": "code",
   "execution_count": 3,
   "id": "436018db",
   "metadata": {},
   "outputs": [
    {
     "name": "stdout",
     "output_type": "stream",
     "text": [
      "name                 | typename                 | interpretation                \n",
      "---------------------+--------------------------+-------------------------------\n",
      "run                  | int32_t                  | AsDtype('>i4')\n",
      "luminosityBlock      | uint32_t                 | AsDtype('>u4')\n",
      "event                | uint64_t                 | AsDtype('>u8')\n",
      "nMuon                | uint32_t                 | AsDtype('>u4')\n",
      "Muon_pt              | float[]                  | AsJagged(AsDtype('>f4'))\n",
      "Muon_eta             | float[]                  | AsJagged(AsDtype('>f4'))\n",
      "Muon_phi             | float[]                  | AsJagged(AsDtype('>f4'))\n",
      "Muon_mass            | float[]                  | AsJagged(AsDtype('>f4'))\n",
      "Muon_charge          | int32_t[]                | AsJagged(AsDtype('>i4'))\n",
      "MET_pt               | float                    | AsDtype('>f4')\n",
      "MET_phi              | float                    | AsDtype('>f4')\n",
      "nGenPart             | uint32_t                 | AsDtype('>u4')\n",
      "GenPart_pt           | float[]                  | AsJagged(AsDtype('>f4'))\n",
      "GenPart_eta          | float[]                  | AsJagged(AsDtype('>f4'))\n",
      "GenPart_phi          | float[]                  | AsJagged(AsDtype('>f4'))\n",
      "GenPart_pdgId        | int32_t[]                | AsJagged(AsDtype('>i4'))\n"
     ]
    }
   ],
   "source": [
    "events = uproot.open(\"data/HiggsZZ4mu.root:Events\")\n",
    "events.show()"
   ]
  },
  {
   "cell_type": "code",
   "execution_count": 4,
   "id": "89cff41e",
   "metadata": {},
   "outputs": [],
   "source": [
    "muons = events.arrays(\n",
    "    [\"pt\", \"eta\", \"phi\", \"charge\"],\n",
    "    aliases={\"pt\": \"Muon_pt\", \"eta\": \"Muon_eta\", \"phi\": \"Muon_phi\", \"charge\": \"Muon_charge\"},\n",
    "    array_cache=None,\n",
    ")\n",
    "muons = ak._v2.tmp_for_testing.v1_to_v2(muons.layout)\n",
    "muons = ak._v2.values_astype(ak._v2.Array(muons, backend=\"jax\"), np.float64)\n",
    "tan = ak._v2.ones_like(muons)"
   ]
  },
  {
   "cell_type": "code",
   "execution_count": 59,
   "id": "7aa235f5",
   "metadata": {},
   "outputs": [],
   "source": [
    "import random\n",
    "params = ak._v2.Array({\"param1\": ak._v2.full_like(muons.pt, random.uniform(0.0, ak._v2.min(muons.pt))),\n",
    "                       \"param2\": ak._v2.full_like(muons.pt, random.uniform(0.0, ak._v2.min(muons.pt)))})\n",
    "# params.append(ak._v2.full_like(muons.pt, random.uniform(0.0, ak._v2.min(muons.pt))))\n",
    "# params.append(ak._v2.full_like(muons.pt, random.uniform(0.0, ak._v2.min(muons.pt))))\n",
    "\n",
    "def calibrate_muons(muons, calib_params):\n",
    "    muons.pt= (muons.pt - calib_params[\"param1\"]) * calib_params[\"param2\"]\n",
    "    return muons\n"
   ]
  },
  {
   "cell_type": "code",
   "execution_count": 60,
   "id": "1ea60e60",
   "metadata": {},
   "outputs": [],
   "source": [
    "def f(muons):\n",
    "    cut = (ak._v2.num(muons.charge) >= 2) & (ak._v2.sum(muons.charge[:, :2], axis=1) == 0)\n",
    "    mu1, mu2 = muons[cut][:, 0], muons[cut][:, 1]\n",
    "    return np.sqrt(2*mu1.pt*mu2.pt*(np.cosh(mu1.eta - mu2.eta) - np.cos(mu1.phi - mu2.phi)))"
   ]
  },
  {
   "cell_type": "code",
   "execution_count": 61,
   "id": "856cc230",
   "metadata": {},
   "outputs": [
    {
     "data": {
      "text/plain": [
       "<Array [36.91503422529658, ..., 68.30598247012703] type='123800 * float64'>"
      ]
     },
     "execution_count": 61,
     "metadata": {},
     "output_type": "execute_result"
    }
   ],
   "source": [
    "def analysis(muons, calib_params):\n",
    "    calib_muons = calibrate_muons(muons, calib_params)\n",
    "    return f(calib_muons)\n",
    "\n",
    "analyis(muons, params)"
   ]
  },
  {
   "cell_type": "code",
   "execution_count": 65,
   "id": "c5ba1cd9",
   "metadata": {},
   "outputs": [
    {
     "name": "stdout",
     "output_type": "stream",
     "text": [
      "[36.91503422529658, 88.44340044298309, ..., 68.30598247012703]\n",
      "[{pt: [], eta: [], phi: [], charge: []}, ..., {pt: [...], eta: [...], ...}]\n",
      "[{param1: [], param2: []}, {...}, ..., {param1: [0.0, ..., 0.0], param2: [...]}]\n"
     ]
    }
   ],
   "source": [
    "val, tangent_func = jax.vjp(analysis, muons, params)\n",
    "print(primals)\n",
    "tan_muons, tan_params = tangent_func(val)\n",
    "print(tan_muons)\n",
    "print(tan_params)"
   ]
  },
  {
   "cell_type": "code",
   "execution_count": 49,
   "id": "c4a31a5c",
   "metadata": {},
   "outputs": [],
   "source": [
    "h = hist.Hist.new.Reg(120, 0, 120, name=\"mass\").Double()\n",
    "h1 = hist.Hist.new.Reg(120, 0, 120, name=\"derivative(f)\").Double()"
   ]
  },
  {
   "cell_type": "code",
   "execution_count": 50,
   "id": "b5287a97",
   "metadata": {},
   "outputs": [],
   "source": [
    "vjp_val, vjp_func = jax.vjp(f, muons)"
   ]
  },
  {
   "cell_type": "code",
   "execution_count": 52,
   "id": "a81b2f71",
   "metadata": {},
   "outputs": [],
   "source": [
    "primals, tangent = jax.jvp(f, (muons,), (tan,)) "
   ]
  },
  {
   "cell_type": "code",
   "execution_count": 53,
   "id": "5e771eb9",
   "metadata": {},
   "outputs": [
    {
     "data": {
      "text/html": [
       "<html>\n",
       "<div style=\"display:flex; align-items:center;\">\n",
       "<div style=\"width:290px;\">\n",
       "<svg xmlns=\"http://www.w3.org/2000/svg\" viewBox=\"-10 -105 270 120\">\n",
       "<line x1=\"-5\" y1=\"0\" x2=\"255\" y2=\"0\" style=\"fill:none;stroke-width:2;stroke:currentColor\"/>\n",
       "<text text-anchor=\"middle\" x=\"0\" y=\"15\" style=\"fill:currentColor;\">\n",
       "0\n",
       "</text>\n",
       "<text text-anchor=\"middle\" x=\"250\" y=\"15\" style=\"fill:currentColor;\">\n",
       "120\n",
       "</text>\n",
       "<text text-anchor=\"middle\" x=\"125.0\" y=\"15\" style=\"fill:currentColor;\">\n",
       "mass\n",
       "</text>\n",
       "<polyline points=\"  0,0   0,-1.98 2.08333,-1.98 2.08333,-3.43 4.16667,-3.43 4.16667,-5.82 6.25,-5.82 6.25,-7.17 8.33333,-7.17 8.33333,-9.58 10.4167,-9.58 10.4167,-11.5 12.5,-11.5 12.5,-12.5 14.5833,-12.5 14.5833,-13.6 16.6667,-13.6 16.6667,-14.8 18.75,-14.8 18.75,-16 20.8333,-16 20.8333,-18.5 22.9167,-18.5 22.9167,-19.1  25,-19.1  25,-21.9 27.0833,-21.9 27.0833,-22.3 29.1667,-22.3 29.1667,-24.5 31.25,-24.5 31.25,-25.9 33.3333,-25.9 33.3333,-28.2 35.4167,-28.2 35.4167,-29 37.5,-29 37.5,-30.3 39.5833,-30.3 39.5833,-33.4 41.6667,-33.4 41.6667,-34.3 43.75,-34.3 43.75,-35.8 45.8333,-35.8 45.8333,-37.7 47.9167,-37.7 47.9167,-39.2  50,-39.2  50,-41.5 52.0833,-41.5 52.0833,-41.7 54.1667,-41.7 54.1667,-42 56.25,-42 56.25,-40.7 58.3333,-40.7 58.3333,-41.7 60.4167,-41.7 60.4167,-40.6 62.5,-40.6 62.5,-39.1 64.5833,-39.1 64.5833,-34.8 66.6667,-34.8 66.6667,-31.9 68.75,-31.9 68.75,-25.4 70.8333,-25.4 70.8333,-20.9 72.9167,-20.9 72.9167,-17.8  75,-17.8  75,-16.6 77.0833,-16.6 77.0833,-15.1 79.1667,-15.1 79.1667,-13.2 81.25,-13.2 81.25,-13.2 83.3333,-13.2 83.3333,-13.1 85.4167,-13.1 85.4167,-11.7 87.5,-11.7 87.5,-11.5 89.5833,-11.5 89.5833,-12.6 91.6667,-12.6 91.6667,-11.2 93.75,-11.2 93.75,-11.3 95.8333,-11.3 95.8333,-11.1 97.9167,-11.1 97.9167,-10.3 100,-10.3 100,-9.34 102.083,-9.34 102.083,-9.71 104.167,-9.71 104.167,-9.88 106.25,-9.88 106.25,-9.45 108.333,-9.45 108.333,-9.09 110.417,-9.09 110.417,-9.55 112.5,-9.55 112.5,-9.15 114.583,-9.15 114.583,-8.42 116.667,-8.42 116.667,-8.82 118.75,-8.82 118.75,-8.66 120.833,-8.66 120.833,-8.87 122.917,-8.87 122.917,-8.64 125,-8.64 125,-7.95 127.083,-7.95 127.083,-7.61 129.167,-7.61 129.167,-7.84 131.25,-7.84 131.25,-7.42 133.333,-7.42 133.333,-7.6 135.417,-7.6 135.417,-7.12 137.5,-7.12 137.5,-6.9 139.583,-6.9 139.583,-7.42 141.667,-7.42 141.667,-7.33 143.75,-7.33 143.75,-7.25 145.833,-7.25 145.833,-8.06 147.917,-8.06 147.917,-7.63 150,-7.63 150,-7.33 152.083,-7.33 152.083,-8.14 154.167,-8.14 154.167,-8.06 156.25,-8.06 156.25,-8.28 158.333,-8.28 158.333,-8.23 160.417,-8.23 160.417,-8.88 162.5,-8.88 162.5,-10.1 164.583,-10.1 164.583,-9.18 166.667,-9.18 166.667,-11.4 168.75,-11.4 168.75,-12 170.833,-12 170.833,-13 172.917,-13 172.917,-15.6 175,-15.6 175,-18.4 177.083,-18.4 177.083,-22.5 179.167,-22.5 179.167,-27.1 181.25,-27.1 181.25,-39.3 183.333,-39.3 183.333,-57.6 185.417,-57.6 185.417,-80.8 187.5,-80.8 187.5,-100 189.583,-100 189.583,-92.4 191.667,-92.4 191.667,-62.6 193.75,-62.6 193.75,-33.5 195.833,-33.5 195.833,-17.8 197.917,-17.8 197.917,-9.1 200,-9.1 200,-5.68 202.083,-5.68 202.083,-3.39 204.167,-3.39 204.167,-2.32 206.25,-2.32 206.25,-1.44 208.333,-1.44 208.333,-0.952 210.417,-0.952 210.417,-0.682 212.5,-0.682 212.5,-0.397 214.583,-0.397 214.583,-0.381 216.667,-0.381 216.667,-0.206 218.75,-0.206 218.75,-0.159 220.833,-0.159 220.833,-0.159 222.917,-0.159 222.917,-0.0952 225,-0.0952 225,-0.0476 227.083,-0.0476 227.083,-0.0634 229.167,-0.0634 229.167,-0.127 231.25,-0.127 231.25,-0.0317 233.333,-0.0317 233.333,-0.0634 235.417,-0.0634 235.417,-0.0476 237.5,-0.0476 237.5,-0.0317 239.583,-0.0317 239.583,-0.0159 241.667,-0.0159 241.667,-0.0159 243.75,-0.0159 243.75,-0 245.833,-0 245.833,-0.0159 247.917,-0.0159 247.917,-0.0159 250,-0.0159 250,0\" style=\"fill:none; stroke:currentColor;\"/>\n",
       "</svg>\n",
       "</div>\n",
       "<div style=\"flex=grow:1;\">\n",
       "Regular(120, 0, 120, name='mass', label='mass')<br/>\n",
       "<hr style=\"margin-top:.2em; margin-bottom:.2em;\"/>\n",
       "Double() Σ=123753.0 <em>(123800.0 with flow)</em>\n",
       "\n",
       "</div>\n",
       "</div>\n",
       "</html>"
      ],
      "text/plain": [
       "Hist(Regular(120, 0, 120, name='mass', label='mass'), storage=Double()) # Sum: 123753.0 (123800.0 with flow)"
      ]
     },
     "execution_count": 53,
     "metadata": {},
     "output_type": "execute_result"
    }
   ],
   "source": [
    "h1.fill(tangent)\n",
    "h.fill(f(muons))"
   ]
  },
  {
   "cell_type": "code",
   "execution_count": 54,
   "id": "f4d24b55",
   "metadata": {},
   "outputs": [
    {
     "data": {
      "text/plain": [
       "[StairsArtists(stairs=<matplotlib.patches.StepPatch object at 0x7fb48ea09540>, errorbar=<ErrorbarContainer object of 3 artists>, legend_artist=<ErrorbarContainer object of 3 artists>)]"
      ]
     },
     "execution_count": 54,
     "metadata": {},
     "output_type": "execute_result"
    },
    {
     "data": {
      "image/png": "[encoded data removed]",
      "text/plain": [
       "<Figure size 432x288 with 1 Axes>"
      ]
     },
     "metadata": {
      "needs_background": "light"
     },
     "output_type": "display_data"
    }
   ],
   "source": [
    "h.plot()"
   ]
  },
  {
   "cell_type": "code",
   "execution_count": 55,
   "id": "0e7484ac",
   "metadata": {},
   "outputs": [
    {
     "data": {
      "text/plain": [
       "[StairsArtists(stairs=<matplotlib.patches.StepPatch object at 0x7fb48c93cfd0>, errorbar=<ErrorbarContainer object of 3 artists>, legend_artist=<ErrorbarContainer object of 3 artists>)]"
      ]
     },
     "execution_count": 55,
     "metadata": {},
     "output_type": "execute_result"
    },
    {
     "data": {
      "image/png": "[encoded data removed]",
      "text/plain": [
       "<Figure size 432x288 with 1 Axes>"
      ]
     },
     "metadata": {
      "needs_background": "light"
     },
     "output_type": "display_data"
    }
   ],
   "source": [
    "h1.plot()"
   ]
  },
  {
   "cell_type": "code",
   "execution_count": null,
   "id": "824712f8",
   "metadata": {},
   "outputs": [],
   "source": []
  }
 ],
 "metadata": {
  "kernelspec": {
   "display_name": "Python 3 (ipykernel)",
   "language": "python",
   "name": "python3"
  },
  "language_info": {
   "codemirror_mode": {
    "name": "ipython",
    "version": 3
   },
   "file_extension": ".py",
   "mimetype": "text/x-python",
   "name": "python",
   "nbconvert_exporter": "python",
   "pygments_lexer": "ipython3",
   "version": "3.10.4"
  }
 },
 "nbformat": 4,
 "nbformat_minor": 5
}
